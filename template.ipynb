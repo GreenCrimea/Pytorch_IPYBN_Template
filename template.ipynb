{
 "cells": [
  {
   "cell_type": "code",
   "execution_count": null,
   "metadata": {},
   "outputs": [],
   "source": [
    "from helper_functions import *"
   ]
  },
  {
   "cell_type": "markdown",
   "metadata": {},
   "source": [
    "## template"
   ]
  }
 ],
 "metadata": {
  "kernelspec": {
   "display_name": "Python 3.8.14 64-bit ('3.8.14')",
   "language": "python",
   "name": "python3"
  },
  "language_info": {
   "name": "python",
   "version": "3.8.14"
  },
  "orig_nbformat": 4,
  "vscode": {
   "interpreter": {
    "hash": "3e01d703e36753556c52b3071bddb2427a3bbe2198807ab259f0d34fb1ae2c81"
   }
  }
 },
 "nbformat": 4,
 "nbformat_minor": 2
}
